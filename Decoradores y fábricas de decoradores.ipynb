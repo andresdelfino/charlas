{
 "cells": [
  {
   "cell_type": "markdown",
   "metadata": {},
   "source": [
    "# Decoradores y fábricas de decoradores"
   ]
  },
  {
   "cell_type": "markdown",
   "metadata": {},
   "source": [
    "Contacto:\n",
    "adelfino@gmail.com\n",
    "Telegram: @adelfino"
   ]
  },
  {
   "cell_type": "markdown",
   "metadata": {},
   "source": [
    "## Cimientos"
   ]
  },
  {
   "cell_type": "markdown",
   "metadata": {},
   "source": [
    "Las funciones pueden ser argumentos:"
   ]
  },
  {
   "cell_type": "code",
   "execution_count": null,
   "metadata": {
    "scrolled": false
   },
   "outputs": [],
   "source": [
    "help(print)"
   ]
  },
  {
   "cell_type": "markdown",
   "metadata": {},
   "source": [
    "Las funciones pueden ser valores de retorno:"
   ]
  },
  {
   "cell_type": "code",
   "execution_count": null,
   "metadata": {},
   "outputs": [],
   "source": [
    "def funcion():\n",
    "    return print\n",
    "\n",
    "print(funcion())"
   ]
  },
  {
   "cell_type": "markdown",
   "metadata": {},
   "source": [
    "Las funciones pueden ser enlazadas a nuevos nombres:"
   ]
  },
  {
   "cell_type": "code",
   "execution_count": null,
   "metadata": {},
   "outputs": [],
   "source": [
    "funcion = print\n",
    "funcion('Hello World')"
   ]
  },
  {
   "cell_type": "markdown",
   "metadata": {},
   "source": [
    "Se puede recibir argumentos posicionales o por keyword de forma variable con los operadores * (que creará una tupla para los argumentos posicionales) y ** (que creará un diccionario para los argumentos por keyword)"
   ]
  },
  {
   "cell_type": "code",
   "execution_count": null,
   "metadata": {},
   "outputs": [],
   "source": [
    "def funcion(*args, **kwargs):\n",
    "    print(args, kwargs)\n",
    "    \n",
    "funcion(1, 2, uno=1, dos=2)"
   ]
  },
  {
   "cell_type": "markdown",
   "metadata": {},
   "source": [
    "Las funciones pueden ser anidadas:"
   ]
  },
  {
   "cell_type": "code",
   "execution_count": null,
   "metadata": {},
   "outputs": [],
   "source": [
    "def madre():\n",
    "    def hija():\n",
    "        print('Hello World')\n",
    "\n",
    "    hija()\n",
    "    print('This is getting old...')\n",
    "\n",
    "madre()\n",
    "\n",
    "try:\n",
    "    hija()\n",
    "except NameError as e:\n",
    "    print('Excepción:', e)"
   ]
  },
  {
   "cell_type": "markdown",
   "metadata": {},
   "source": [
    "Los nombres accedidos en las funciones anidadas que no se hayan definido en ellas serán buscados en la función que la anida, y su valor será preservado en una \"closure\"."
   ]
  },
  {
   "cell_type": "code",
   "execution_count": null,
   "metadata": {},
   "outputs": [],
   "source": [
    "import inspect\n",
    "\n",
    "nombre_global = 'valor global'\n",
    "\n",
    "def madre():\n",
    "    nombre_no_local = 'valor no local' #desde la perspectiva de hija()\n",
    "\n",
    "    def hija():\n",
    "        print('Global:', nombre_global)\n",
    "        print('No local:', nombre_no_local)\n",
    "        print('Unbound:', nombre_unbound)\n",
    "        print()\n",
    "\n",
    "    return hija\n",
    "\n",
    "funcion = madre()\n",
    "\n",
    "print(inspect.getclosurevars(funcion), '\\n')\n",
    "\n",
    "print('Ejecutamos la función hija sin cambiar nada del entorno')\n",
    "try:\n",
    "    funcion()\n",
    "except NameError as e:\n",
    "    print('Excepción:', e, '\\n')\n",
    "    pass\n",
    "\n",
    "print('Ejecutamos tras crear el nombre global nombre_unbound')\n",
    "nombre_unbound = 1\n",
    "funcion()\n",
    "\n",
    "print('Ejecutamos tras cambiar valor de nombre global')\n",
    "nombre_global = '123'\n",
    "funcion()"
   ]
  },
  {
   "cell_type": "markdown",
   "metadata": {},
   "source": [
    "## Decoradores"
   ]
  },
  {
   "cell_type": "markdown",
   "metadata": {},
   "source": [
    "Alteran la ejecución de una función, una corutina o una clase. Generalmente llaman al objeto decorado en algún momento, pero es totalmente opcional."
   ]
  },
  {
   "cell_type": "markdown",
   "metadata": {},
   "source": [
    "### Decoradores de funciones, y corutinas"
   ]
  },
  {
   "cell_type": "markdown",
   "metadata": {},
   "source": [
    "Suelen retornar un nuevo objeto."
   ]
  },
  {
   "cell_type": "code",
   "execution_count": null,
   "metadata": {},
   "outputs": [],
   "source": [
    "def decorador(obj):\n",
    "    def objeto_decorado(*args, **kwargs):\n",
    "        print('Hola')\n",
    "        r = obj(*args, **kwargs)\n",
    "        print('Chau')\n",
    "        return r\n",
    "\n",
    "    return objeto_decorado\n",
    "\n",
    "sum = decorador(sum)\n",
    "x = sum([1, 2, 3])\n",
    "print(x)"
   ]
  },
  {
   "cell_type": "markdown",
   "metadata": {},
   "source": [
    "### Decoradores de métodos de instancia"
   ]
  },
  {
   "cell_type": "markdown",
   "metadata": {},
   "source": [
    "Suelen retornar un nuevo objeto."
   ]
  },
  {
   "cell_type": "code",
   "execution_count": null,
   "metadata": {},
   "outputs": [],
   "source": [
    "def decorador(obj):\n",
    "    def objeto_decorado(self, *args, **kwargs):\n",
    "        self.cuenta += 1\n",
    "\n",
    "    return objeto_decorado\n",
    "\n",
    "class Clase:\n",
    "    def __init__(self):\n",
    "        self.cuenta = 0\n",
    "\n",
    "    def contar(self):\n",
    "        self.cuenta += 1\n",
    "\n",
    "    contar = decorador(contar)\n",
    "   \n",
    "instancia = Clase()\n",
    "instancia.contar()\n",
    "instancia.cuenta"
   ]
  },
  {
   "cell_type": "markdown",
   "metadata": {},
   "source": [
    "### Decoradores de clase"
   ]
  },
  {
   "cell_type": "markdown",
   "metadata": {},
   "source": [
    "Suelen retornar el mismo objeto."
   ]
  },
  {
   "cell_type": "code",
   "execution_count": null,
   "metadata": {},
   "outputs": [],
   "source": [
    "def decorador(obj):\n",
    "    def __str__(self):\n",
    "        return 'Hola'\n",
    "\n",
    "    obj.__str__ = __str__\n",
    "\n",
    "    return obj\n",
    "\n",
    "class Clase:\n",
    "    pass\n",
    "\n",
    "Clase = decorador(Clase)\n",
    "instancia = Clase()\n",
    "\n",
    "print(instancia)"
   ]
  },
  {
   "cell_type": "markdown",
   "metadata": {},
   "source": [
    "### Preservar metadata y referencia cuando se retorna un nuevo objeto"
   ]
  },
  {
   "cell_type": "code",
   "execution_count": null,
   "metadata": {},
   "outputs": [],
   "source": [
    "import re\n",
    "\n",
    "def decorador(obj):\n",
    "    def objeto_decorado(*args, **kwargs):\n",
    "        return obj(*args, **kwargs)\n",
    "\n",
    "    return objeto_decorado\n",
    "\n",
    "re.search = decorador(re.search)\n",
    "\n",
    "for attrib in ('__module__', '__name__', '__qualname__', '__annotations__', '__doc__'):\n",
    "    print(f'{attrib}:', getattr(re.search, attrib))"
   ]
  },
  {
   "cell_type": "code",
   "execution_count": null,
   "metadata": {},
   "outputs": [],
   "source": [
    "import functools\n",
    "import re\n",
    "\n",
    "def decorador(obj):\n",
    "    def objeto_decorado(*args, **kwargs):\n",
    "        return obj(*args, **kwargs)\n",
    "\n",
    "    objeto_decorado = functools.update_wrapper(objeto_decorado, obj)\n",
    "\n",
    "    return objeto_decorado\n",
    "\n",
    "re.findall = decorador(re.findall)\n",
    "\n",
    "for attrib in ('__module__', '__name__', '__qualname__', '__annotations__', '__doc__'):\n",
    "    print(f'{attrib}:', getattr(re.findall, attrib))\n",
    "    \n",
    "print()\n",
    "print('Original:', re.findall.__wrapped__)\n",
    "print('Decorado:', re.findall)"
   ]
  },
  {
   "cell_type": "markdown",
   "metadata": {},
   "source": [
    "## Sintaxis de decoración en tiempo de definición"
   ]
  },
  {
   "cell_type": "code",
   "execution_count": null,
   "metadata": {},
   "outputs": [],
   "source": [
    "def decorador1(obj):\n",
    "    print('Aplicando decorador 1')\n",
    "    return obj\n",
    "\n",
    "def decorador2(obj):\n",
    "    print('Aplicando decorador 2')\n",
    "    return obj\n",
    "\n",
    "#obj = decorador1(decorador2(obj))\n",
    "\n",
    "@decorador2\n",
    "@decorador1\n",
    "def obj():\n",
    "    print('Ejecutando obj')\n",
    "\n",
    "obj()"
   ]
  },
  {
   "cell_type": "markdown",
   "metadata": {},
   "source": [
    "## Fábricas de decoradores"
   ]
  },
  {
   "cell_type": "code",
   "execution_count": null,
   "metadata": {},
   "outputs": [],
   "source": [
    "import datetime\n",
    "\n",
    "def fabrica_de_decoradores(formato):\n",
    "    def decorador(obj):\n",
    "      def objeto_decorado(*args, **kwargs):\n",
    "          timestamp = datetime.datetime.today()\n",
    "          print('{:{}} Inicio'.format(timestamp, formato))\n",
    "\n",
    "          r = obj(*args, **kwargs)\n",
    "\n",
    "          timestamp = datetime.datetime.today()\n",
    "          print('{:{}} Final'.format(timestamp, formato))\n",
    "\n",
    "          return r\n",
    "\n",
    "      return objeto_decorado\n",
    "    \n",
    "    return decorador\n",
    "\n",
    "@fabrica_de_decoradores(formato='%Y%m%dT%M%H%S')\n",
    "def funcion():\n",
    "   print('Test')\n",
    "\n",
    "funcion()"
   ]
  }
 ],
 "metadata": {
  "kernelspec": {
   "display_name": "Python 3",
   "language": "python",
   "name": "python3"
  },
  "language_info": {
   "codemirror_mode": {
    "name": "ipython",
    "version": 3
   },
   "file_extension": ".py",
   "mimetype": "text/x-python",
   "name": "python",
   "nbconvert_exporter": "python",
   "pygments_lexer": "ipython3",
   "version": "3.7.0"
  }
 },
 "nbformat": 4,
 "nbformat_minor": 2
}
